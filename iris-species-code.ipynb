{
 "cells": [
  {
   "cell_type": "markdown",
   "id": "bb0d5dd5",
   "metadata": {
    "papermill": {
     "duration": 0.00573,
     "end_time": "2024-11-02T22:00:16.843257",
     "exception": false,
     "start_time": "2024-11-02T22:00:16.837527",
     "status": "completed"
    },
    "tags": []
   },
   "source": [
    "# <div style=\"text-align:center; border-radius:15px 15px; padding:7px; color:#9a68c0; margin:0; font-size:150%; font-family:Pacifico; background-color:#129717; overflow:hidden; font-weight: bold\"> Ahmad Gaitani Code </div>\n",
    "![](https://s3.amazonaws.com/assets.datacamp.com/blog_assets/Machine+Learning+R/iris-machinelearning.png)"
   ]
  },
  {
   "cell_type": "markdown",
   "id": "3b0d45a4",
   "metadata": {
    "papermill": {
     "duration": 0.00482,
     "end_time": "2024-11-02T22:00:16.853471",
     "exception": false,
     "start_time": "2024-11-02T22:00:16.848651",
     "status": "completed"
    },
    "tags": []
   },
   "source": [
    "# <div style=\"text-align:center; border-radius:15px 15px; padding:7px; color:#9a68c0; margin:0; font-size:150%; font-family:Pacifico; background-color:#129717; overflow:hidden;\"> Import Libraries</div>"
   ]
  },
  {
   "cell_type": "code",
   "execution_count": 1,
   "id": "dac4adb2",
   "metadata": {
    "execution": {
     "iopub.execute_input": "2024-11-02T22:00:16.865430Z",
     "iopub.status.busy": "2024-11-02T22:00:16.864980Z",
     "iopub.status.idle": "2024-11-02T22:00:20.248790Z",
     "shell.execute_reply": "2024-11-02T22:00:20.247560Z"
    },
    "papermill": {
     "duration": 3.393267,
     "end_time": "2024-11-02T22:00:20.251794",
     "exception": false,
     "start_time": "2024-11-02T22:00:16.858527",
     "status": "completed"
    },
    "tags": []
   },
   "outputs": [],
   "source": [
    "import joblib\n",
    "import seaborn \n",
    "import pandas as pd\n",
    "import xgboost as xgb\n",
    "import matplotlib.pyplot as plt\n",
    "from sklearn.preprocessing import LabelEncoder\n",
    "from sklearn.model_selection import train_test_split\n",
    "from sklearn.metrics import accuracy_score, classification_report, confusion_matrix\n"
   ]
  },
  {
   "cell_type": "markdown",
   "id": "763f38fd",
   "metadata": {
    "papermill": {
     "duration": 0.005108,
     "end_time": "2024-11-02T22:00:20.262239",
     "exception": false,
     "start_time": "2024-11-02T22:00:20.257131",
     "status": "completed"
    },
    "tags": []
   },
   "source": [
    "# <div style=\"text-align:center; border-radius:15px 15px; padding:7px; color:#9a68c0; margin:0; font-size:150%; font-family:Pacifico; background-color:#129717; overflow:hidden;\"> Load and Preprocess Data </div>"
   ]
  },
  {
   "cell_type": "code",
   "execution_count": 2,
   "id": "5c3e895f",
   "metadata": {
    "execution": {
     "iopub.execute_input": "2024-11-02T22:00:20.275392Z",
     "iopub.status.busy": "2024-11-02T22:00:20.274474Z",
     "iopub.status.idle": "2024-11-02T22:00:20.330663Z",
     "shell.execute_reply": "2024-11-02T22:00:20.329464Z"
    },
    "papermill": {
     "duration": 0.066035,
     "end_time": "2024-11-02T22:00:20.333899",
     "exception": false,
     "start_time": "2024-11-02T22:00:20.267864",
     "status": "completed"
    },
    "tags": []
   },
   "outputs": [
    {
     "name": "stdout",
     "output_type": "stream",
     "text": [
      "   Id  SepalLengthCm  SepalWidthCm  PetalLengthCm  PetalWidthCm      Species\n",
      "0   1            5.1           3.5            1.4           0.2  Iris-setosa\n",
      "1   2            4.9           3.0            1.4           0.2  Iris-setosa\n",
      "2   3            4.7           3.2            1.3           0.2  Iris-setosa\n",
      "3   4            4.6           3.1            1.5           0.2  Iris-setosa\n",
      "4   5            5.0           3.6            1.4           0.2  Iris-setosa\n",
      "\n",
      "ملخص بيانات:\n",
      "               Id  SepalLengthCm  SepalWidthCm  PetalLengthCm  PetalWidthCm\n",
      "count  150.000000     150.000000    150.000000     150.000000    150.000000\n",
      "mean    75.500000       5.843333      3.054000       3.758667      1.198667\n",
      "std     43.445368       0.828066      0.433594       1.764420      0.763161\n",
      "min      1.000000       4.300000      2.000000       1.000000      0.100000\n",
      "25%     38.250000       5.100000      2.800000       1.600000      0.300000\n",
      "50%     75.500000       5.800000      3.000000       4.350000      1.300000\n",
      "75%    112.750000       6.400000      3.300000       5.100000      1.800000\n",
      "max    150.000000       7.900000      4.400000       6.900000      2.500000\n",
      "\n",
      "القيم المفقودة:\n",
      "Id               0\n",
      "SepalLengthCm    0\n",
      "SepalWidthCm     0\n",
      "PetalLengthCm    0\n",
      "PetalWidthCm     0\n",
      "Species          0\n",
      "dtype: int64\n"
     ]
    }
   ],
   "source": [
    "data = pd.read_csv(\"/kaggle/input/iris/Iris.csv\")\n",
    "\n",
    "print(data.head())\n",
    "print(\"\\nملخص بيانات:\")\n",
    "print(data.describe())\n",
    "\n",
    "print(\"\\nالقيم المفقودة:\")\n",
    "print(data.isnull().sum())"
   ]
  },
  {
   "cell_type": "code",
   "execution_count": 3,
   "id": "ca08b446",
   "metadata": {
    "execution": {
     "iopub.execute_input": "2024-11-02T22:00:20.347373Z",
     "iopub.status.busy": "2024-11-02T22:00:20.346840Z",
     "iopub.status.idle": "2024-11-02T22:00:20.364736Z",
     "shell.execute_reply": "2024-11-02T22:00:20.363557Z"
    },
    "papermill": {
     "duration": 0.027969,
     "end_time": "2024-11-02T22:00:20.367430",
     "exception": false,
     "start_time": "2024-11-02T22:00:20.339461",
     "status": "completed"
    },
    "tags": []
   },
   "outputs": [],
   "source": [
    "X = data[['SepalLengthCm', 'SepalWidthCm', 'PetalLengthCm', 'PetalWidthCm']]\n",
    "y = data['Species']\n",
    "\n",
    "\n",
    "label_encoder = LabelEncoder()\n",
    "y = label_encoder.fit_transform(y)\n",
    "\n",
    "X_train, X_test, y_train, y_test = train_test_split(X, y, test_size=0.3, random_state=42)\n"
   ]
  },
  {
   "cell_type": "markdown",
   "id": "fd1b4e07",
   "metadata": {
    "papermill": {
     "duration": 0.005113,
     "end_time": "2024-11-02T22:00:20.377964",
     "exception": false,
     "start_time": "2024-11-02T22:00:20.372851",
     "status": "completed"
    },
    "tags": []
   },
   "source": [
    "# <div style=\"text-align:center; border-radius:15px 15px; padding:7px; color:#9a68c0; margin:0; font-size:150%; font-family:Pacifico; background-color:#129717; overflow:hidden;\"> Train the Model</div>"
   ]
  },
  {
   "cell_type": "code",
   "execution_count": 4,
   "id": "36f7d842",
   "metadata": {
    "execution": {
     "iopub.execute_input": "2024-11-02T22:00:20.390712Z",
     "iopub.status.busy": "2024-11-02T22:00:20.390266Z",
     "iopub.status.idle": "2024-11-02T22:00:20.513056Z",
     "shell.execute_reply": "2024-11-02T22:00:20.511883Z"
    },
    "papermill": {
     "duration": 0.132404,
     "end_time": "2024-11-02T22:00:20.515786",
     "exception": false,
     "start_time": "2024-11-02T22:00:20.383382",
     "status": "completed"
    },
    "tags": []
   },
   "outputs": [
    {
     "data": {
      "text/html": [
       "<style>#sk-container-id-1 {color: black;background-color: white;}#sk-container-id-1 pre{padding: 0;}#sk-container-id-1 div.sk-toggleable {background-color: white;}#sk-container-id-1 label.sk-toggleable__label {cursor: pointer;display: block;width: 100%;margin-bottom: 0;padding: 0.3em;box-sizing: border-box;text-align: center;}#sk-container-id-1 label.sk-toggleable__label-arrow:before {content: \"▸\";float: left;margin-right: 0.25em;color: #696969;}#sk-container-id-1 label.sk-toggleable__label-arrow:hover:before {color: black;}#sk-container-id-1 div.sk-estimator:hover label.sk-toggleable__label-arrow:before {color: black;}#sk-container-id-1 div.sk-toggleable__content {max-height: 0;max-width: 0;overflow: hidden;text-align: left;background-color: #f0f8ff;}#sk-container-id-1 div.sk-toggleable__content pre {margin: 0.2em;color: black;border-radius: 0.25em;background-color: #f0f8ff;}#sk-container-id-1 input.sk-toggleable__control:checked~div.sk-toggleable__content {max-height: 200px;max-width: 100%;overflow: auto;}#sk-container-id-1 input.sk-toggleable__control:checked~label.sk-toggleable__label-arrow:before {content: \"▾\";}#sk-container-id-1 div.sk-estimator input.sk-toggleable__control:checked~label.sk-toggleable__label {background-color: #d4ebff;}#sk-container-id-1 div.sk-label input.sk-toggleable__control:checked~label.sk-toggleable__label {background-color: #d4ebff;}#sk-container-id-1 input.sk-hidden--visually {border: 0;clip: rect(1px 1px 1px 1px);clip: rect(1px, 1px, 1px, 1px);height: 1px;margin: -1px;overflow: hidden;padding: 0;position: absolute;width: 1px;}#sk-container-id-1 div.sk-estimator {font-family: monospace;background-color: #f0f8ff;border: 1px dotted black;border-radius: 0.25em;box-sizing: border-box;margin-bottom: 0.5em;}#sk-container-id-1 div.sk-estimator:hover {background-color: #d4ebff;}#sk-container-id-1 div.sk-parallel-item::after {content: \"\";width: 100%;border-bottom: 1px solid gray;flex-grow: 1;}#sk-container-id-1 div.sk-label:hover label.sk-toggleable__label {background-color: #d4ebff;}#sk-container-id-1 div.sk-serial::before {content: \"\";position: absolute;border-left: 1px solid gray;box-sizing: border-box;top: 0;bottom: 0;left: 50%;z-index: 0;}#sk-container-id-1 div.sk-serial {display: flex;flex-direction: column;align-items: center;background-color: white;padding-right: 0.2em;padding-left: 0.2em;position: relative;}#sk-container-id-1 div.sk-item {position: relative;z-index: 1;}#sk-container-id-1 div.sk-parallel {display: flex;align-items: stretch;justify-content: center;background-color: white;position: relative;}#sk-container-id-1 div.sk-item::before, #sk-container-id-1 div.sk-parallel-item::before {content: \"\";position: absolute;border-left: 1px solid gray;box-sizing: border-box;top: 0;bottom: 0;left: 50%;z-index: -1;}#sk-container-id-1 div.sk-parallel-item {display: flex;flex-direction: column;z-index: 1;position: relative;background-color: white;}#sk-container-id-1 div.sk-parallel-item:first-child::after {align-self: flex-end;width: 50%;}#sk-container-id-1 div.sk-parallel-item:last-child::after {align-self: flex-start;width: 50%;}#sk-container-id-1 div.sk-parallel-item:only-child::after {width: 0;}#sk-container-id-1 div.sk-dashed-wrapped {border: 1px dashed gray;margin: 0 0.4em 0.5em 0.4em;box-sizing: border-box;padding-bottom: 0.4em;background-color: white;}#sk-container-id-1 div.sk-label label {font-family: monospace;font-weight: bold;display: inline-block;line-height: 1.2em;}#sk-container-id-1 div.sk-label-container {text-align: center;}#sk-container-id-1 div.sk-container {/* jupyter's `normalize.less` sets `[hidden] { display: none; }` but bootstrap.min.css set `[hidden] { display: none !important; }` so we also need the `!important` here to be able to override the default hidden behavior on the sphinx rendered scikit-learn.org. See: https://github.com/scikit-learn/scikit-learn/issues/21755 */display: inline-block !important;position: relative;}#sk-container-id-1 div.sk-text-repr-fallback {display: none;}</style><div id=\"sk-container-id-1\" class=\"sk-top-container\"><div class=\"sk-text-repr-fallback\"><pre>XGBClassifier(base_score=None, booster=None, callbacks=None,\n",
       "              colsample_bylevel=None, colsample_bynode=None,\n",
       "              colsample_bytree=None, device=None, early_stopping_rounds=None,\n",
       "              enable_categorical=False, eval_metric=&#x27;mlogloss&#x27;,\n",
       "              feature_types=None, gamma=None, grow_policy=None,\n",
       "              importance_type=None, interaction_constraints=None,\n",
       "              learning_rate=None, max_bin=None, max_cat_threshold=None,\n",
       "              max_cat_to_onehot=None, max_delta_step=None, max_depth=None,\n",
       "              max_leaves=None, min_child_weight=None, missing=nan,\n",
       "              monotone_constraints=None, multi_strategy=None, n_estimators=None,\n",
       "              n_jobs=None, num_parallel_tree=None, objective=&#x27;multi:softprob&#x27;, ...)</pre><b>In a Jupyter environment, please rerun this cell to show the HTML representation or trust the notebook. <br />On GitHub, the HTML representation is unable to render, please try loading this page with nbviewer.org.</b></div><div class=\"sk-container\" hidden><div class=\"sk-item\"><div class=\"sk-estimator sk-toggleable\"><input class=\"sk-toggleable__control sk-hidden--visually\" id=\"sk-estimator-id-1\" type=\"checkbox\" checked><label for=\"sk-estimator-id-1\" class=\"sk-toggleable__label sk-toggleable__label-arrow\">XGBClassifier</label><div class=\"sk-toggleable__content\"><pre>XGBClassifier(base_score=None, booster=None, callbacks=None,\n",
       "              colsample_bylevel=None, colsample_bynode=None,\n",
       "              colsample_bytree=None, device=None, early_stopping_rounds=None,\n",
       "              enable_categorical=False, eval_metric=&#x27;mlogloss&#x27;,\n",
       "              feature_types=None, gamma=None, grow_policy=None,\n",
       "              importance_type=None, interaction_constraints=None,\n",
       "              learning_rate=None, max_bin=None, max_cat_threshold=None,\n",
       "              max_cat_to_onehot=None, max_delta_step=None, max_depth=None,\n",
       "              max_leaves=None, min_child_weight=None, missing=nan,\n",
       "              monotone_constraints=None, multi_strategy=None, n_estimators=None,\n",
       "              n_jobs=None, num_parallel_tree=None, objective=&#x27;multi:softprob&#x27;, ...)</pre></div></div></div></div></div>"
      ],
      "text/plain": [
       "XGBClassifier(base_score=None, booster=None, callbacks=None,\n",
       "              colsample_bylevel=None, colsample_bynode=None,\n",
       "              colsample_bytree=None, device=None, early_stopping_rounds=None,\n",
       "              enable_categorical=False, eval_metric='mlogloss',\n",
       "              feature_types=None, gamma=None, grow_policy=None,\n",
       "              importance_type=None, interaction_constraints=None,\n",
       "              learning_rate=None, max_bin=None, max_cat_threshold=None,\n",
       "              max_cat_to_onehot=None, max_delta_step=None, max_depth=None,\n",
       "              max_leaves=None, min_child_weight=None, missing=nan,\n",
       "              monotone_constraints=None, multi_strategy=None, n_estimators=None,\n",
       "              n_jobs=None, num_parallel_tree=None, objective='multi:softprob', ...)"
      ]
     },
     "execution_count": 4,
     "metadata": {},
     "output_type": "execute_result"
    }
   ],
   "source": [
    "xgb_model = xgb.XGBClassifier(use_label_encoder=False, eval_metric='mlogloss')\n",
    "\n",
    "xgb_model.fit(X_train, y_train)"
   ]
  },
  {
   "cell_type": "markdown",
   "id": "8dc11d1a",
   "metadata": {
    "papermill": {
     "duration": 0.00541,
     "end_time": "2024-11-02T22:00:20.527054",
     "exception": false,
     "start_time": "2024-11-02T22:00:20.521644",
     "status": "completed"
    },
    "tags": []
   },
   "source": [
    "# <div style=\"text-align:center; border-radius:15px 15px; padding:7px; color:#9a68c0; margin:0; font-size:150%; font-family:Pacifico; background-color:#129717; overflow:hidden;\"> Make a Prediction </div>"
   ]
  },
  {
   "cell_type": "code",
   "execution_count": 5,
   "id": "7e26615c",
   "metadata": {
    "execution": {
     "iopub.execute_input": "2024-11-02T22:00:20.540860Z",
     "iopub.status.busy": "2024-11-02T22:00:20.540429Z",
     "iopub.status.idle": "2024-11-02T22:00:20.550148Z",
     "shell.execute_reply": "2024-11-02T22:00:20.549200Z"
    },
    "papermill": {
     "duration": 0.020246,
     "end_time": "2024-11-02T22:00:20.553333",
     "exception": false,
     "start_time": "2024-11-02T22:00:20.533087",
     "status": "completed"
    },
    "tags": []
   },
   "outputs": [],
   "source": [
    "y_pred = xgb_model.predict(X_test)"
   ]
  },
  {
   "cell_type": "markdown",
   "id": "8c6fdfc9",
   "metadata": {
    "papermill": {
     "duration": 0.006435,
     "end_time": "2024-11-02T22:00:20.567410",
     "exception": false,
     "start_time": "2024-11-02T22:00:20.560975",
     "status": "completed"
    },
    "tags": []
   },
   "source": [
    "# <div style=\"text-align:center; border-radius:15px 15px; padding:7px; color:#9a68c0; margin:0; font-size:150%; font-family:Pacifico; background-color:#129717; overflow:hidden;\"> Evaluate the Model</div>"
   ]
  },
  {
   "cell_type": "code",
   "execution_count": 6,
   "id": "f1adf6ee",
   "metadata": {
    "execution": {
     "iopub.execute_input": "2024-11-02T22:00:20.580717Z",
     "iopub.status.busy": "2024-11-02T22:00:20.580297Z",
     "iopub.status.idle": "2024-11-02T22:00:20.598082Z",
     "shell.execute_reply": "2024-11-02T22:00:20.596442Z"
    },
    "papermill": {
     "duration": 0.027755,
     "end_time": "2024-11-02T22:00:20.601010",
     "exception": false,
     "start_time": "2024-11-02T22:00:20.573255",
     "status": "completed"
    },
    "tags": []
   },
   "outputs": [
    {
     "name": "stdout",
     "output_type": "stream",
     "text": [
      "\n",
      "دقة النموذج: 1.0\n",
      "\n",
      "تقرير التصنيف:\n",
      "              precision    recall  f1-score   support\n",
      "\n",
      "           0       1.00      1.00      1.00        19\n",
      "           1       1.00      1.00      1.00        13\n",
      "           2       1.00      1.00      1.00        13\n",
      "\n",
      "    accuracy                           1.00        45\n",
      "   macro avg       1.00      1.00      1.00        45\n",
      "weighted avg       1.00      1.00      1.00        45\n",
      "\n"
     ]
    }
   ],
   "source": [
    "accuracy = accuracy_score(y_test, y_pred)\n",
    "print(\"\\nدقة النموذج:\", accuracy)\n",
    "print(\"\\nتقرير التصنيف:\")\n",
    "print(classification_report(y_test, y_pred))"
   ]
  },
  {
   "cell_type": "code",
   "execution_count": 7,
   "id": "10a6b185",
   "metadata": {
    "execution": {
     "iopub.execute_input": "2024-11-02T22:00:20.615306Z",
     "iopub.status.busy": "2024-11-02T22:00:20.614847Z",
     "iopub.status.idle": "2024-11-02T22:00:21.010079Z",
     "shell.execute_reply": "2024-11-02T22:00:21.008806Z"
    },
    "papermill": {
     "duration": 0.405271,
     "end_time": "2024-11-02T22:00:21.012749",
     "exception": false,
     "start_time": "2024-11-02T22:00:20.607478",
     "status": "completed"
    },
    "tags": []
   },
   "outputs": [
    {
     "data": {
      "image/png": "[encoded data removed]",
      "text/plain": [
       "<Figure size 600x400 with 2 Axes>"
      ]
     },
     "metadata": {},
     "output_type": "display_data"
    }
   ],
   "source": [
    "conf_matrix = confusion_matrix(y_test, y_pred)\n",
    "plt.figure(figsize=(6, 4))\n",
    "seaborn.heatmap(conf_matrix, annot=True, cmap=\"Blues\", fmt=\"d\",\n",
    "            xticklabels=label_encoder.classes_,\n",
    "            yticklabels=label_encoder.classes_)\n",
    "plt.xlabel('Predicted Labels')\n",
    "plt.ylabel('True Labels')\n",
    "plt.title('Confusion Matrix')\n",
    "plt.show()\n"
   ]
  },
  {
   "cell_type": "markdown",
   "id": "463ec77e",
   "metadata": {
    "papermill": {
     "duration": 0.006272,
     "end_time": "2024-11-02T22:00:21.025552",
     "exception": false,
     "start_time": "2024-11-02T22:00:21.019280",
     "status": "completed"
    },
    "tags": []
   },
   "source": [
    "# <div style=\"text-align:center; border-radius:15px 15px; padding:7px; color:#9a68c0; margin:0; font-size:150%; font-family:Pacifico; background-color:#129717; overflow:hidden;\"> Save Model </div>"
   ]
  },
  {
   "cell_type": "code",
   "execution_count": 8,
   "id": "559e0c2e",
   "metadata": {
    "execution": {
     "iopub.execute_input": "2024-11-02T22:00:21.040691Z",
     "iopub.status.busy": "2024-11-02T22:00:21.040226Z",
     "iopub.status.idle": "2024-11-02T22:00:21.052977Z",
     "shell.execute_reply": "2024-11-02T22:00:21.052042Z"
    },
    "papermill": {
     "duration": 0.026594,
     "end_time": "2024-11-02T22:00:21.058585",
     "exception": false,
     "start_time": "2024-11-02T22:00:21.031991",
     "status": "completed"
    },
    "tags": []
   },
   "outputs": [
    {
     "name": "stdout",
     "output_type": "stream",
     "text": [
      "تم حفظ النموذج بنجاح.\n"
     ]
    }
   ],
   "source": [
    "joblib.dump(xgb_model, \"xgboost_iris_model.joblib\")\n",
    "print(\"تم حفظ النموذج بنجاح.\")\n"
   ]
  }
 ],
 "metadata": {
  "kaggle": {
   "accelerator": "none",
   "dataSources": [
    {
     "datasetId": 19,
     "sourceId": 420,
     "sourceType": "datasetVersion"
    }
   ],
   "dockerImageVersionId": 30786,
   "isGpuEnabled": false,
   "isInternetEnabled": true,
   "language": "python",
   "sourceType": "notebook"
  },
  "kernelspec": {
   "display_name": "Python 3",
   "language": "python",
   "name": "python3"
  },
  "language_info": {
   "codemirror_mode": {
    "name": "ipython",
    "version": 3
   },
   "file_extension": ".py",
   "mimetype": "text/x-python",
   "name": "python",
   "nbconvert_exporter": "python",
   "pygments_lexer": "ipython3",
   "version": "3.10.14"
  },
  "papermill": {
   "default_parameters": {},
   "duration": 8.155817,
   "end_time": "2024-11-02T22:00:21.789114",
   "environment_variables": {},
   "exception": null,
   "input_path": "__notebook__.ipynb",
   "output_path": "__notebook__.ipynb",
   "parameters": {},
   "start_time": "2024-11-02T22:00:13.633297",
   "version": "2.6.0"
  }
 },
 "nbformat": 4,
 "nbformat_minor": 5
}
